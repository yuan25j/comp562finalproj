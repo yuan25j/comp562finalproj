{
 "cells": [
  {
   "cell_type": "code",
   "execution_count": 9,
   "metadata": {},
   "outputs": [],
   "source": [
    "import pandas as pd\n",
    "initial_df = pd.read_csv('Collisions.csv') # All attributes\n",
    "# Declaring needed columns\n",
    "df = pd.DataFrame()\n",
    "wanted_columns = ['X', 'Y', 'ADDRTYPE','SEVERITYCODE', 'VEHCOUNT', 'INJURIES', 'SERIOUSINJURIES', \n",
    "                  'FATALITIES', 'JUNCTIONTYPE', 'UNDERINFL', 'WEATHER', 'ROADCOND', 'LIGHTCOND', 'ST_COLCODE'] \n",
    "# Constructing new dataset with only those necessary\n",
    "for c in wanted_columns:\n",
    "         df[str(c)] = initial_df[c]\n",
    "\n",
    "df.to_csv(\"SelectedCollisionCols.csv\", index=False) "
   ]
  }
 ],
 "metadata": {
  "kernelspec": {
   "display_name": "Python 3",
   "language": "python",
   "name": "python3"
  },
  "language_info": {
   "codemirror_mode": {
    "name": "ipython",
    "version": 3
   },
   "file_extension": ".py",
   "mimetype": "text/x-python",
   "name": "python",
   "nbconvert_exporter": "python",
   "pygments_lexer": "ipython3",
   "version": "3.10.1"
  }
 },
 "nbformat": 4,
 "nbformat_minor": 2
}
